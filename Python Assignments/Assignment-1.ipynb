{
 "cells": [
  {
   "cell_type": "markdown",
   "id": "375c6b97-a364-417a-9b01-5a3e24414901",
   "metadata": {},
   "source": [
    "Q1. Create one variable containing following type of data:\n",
    "\n",
    "(i)\tstring\n",
    "\n",
    "(ii)\tlist\n",
    "\n",
    "(iii)\tfloat\n",
    "\n",
    "(iv)\ttuple"
   ]
  },
  {
   "cell_type": "code",
   "execution_count": null,
   "id": "f017a9c7-c772-49a0-8382-233db131c5ca",
   "metadata": {},
   "outputs": [],
   "source": [
    "s='Dhruv'\n",
    "l=[34,46,64,76]\n",
    "f=8.36\n",
    "t=(4,2,56,87)"
   ]
  },
  {
   "cell_type": "markdown",
   "id": "a8325ae0-5ab2-46b5-8bdb-ce43f8d6c4ca",
   "metadata": {},
   "source": [
    "Q2. Given are some following variables containing data:\n",
    "\n",
    "(1)\tvar1 = ‘ ‘\n",
    "\n",
    "(2)\tvar2 = ‘[ DS , ML , Python]’\n",
    "\n",
    "(3)\tvar3 = [ ‘DS’ , ’ML’ , ‘Python’ ]\n",
    "\n",
    "(4)\tvar4 = 1.\n",
    "\n",
    "\n",
    "What will be the data type of the above given variable."
   ]
  },
  {
   "cell_type": "code",
   "execution_count": null,
   "id": "630d69a3-7b50-43d7-b556-105584677acd",
   "metadata": {},
   "outputs": [],
   "source": [
    "(1)=Empty string\n",
    "(2)=String data type.\n",
    "(3)=list data type.\n",
    "(4)=integer data type."
   ]
  },
  {
   "cell_type": "markdown",
   "id": "7ac727e1-8307-460f-abba-53765d93cd8a",
   "metadata": {},
   "source": [
    "Q3. Explain the use of the following operators using an example:\n",
    "\n",
    "(i)\t/\n",
    "\n",
    "(ii)\t% \n",
    "\n",
    "(iii)\t//\n",
    "\n",
    "(iv)\t**"
   ]
  },
  {
   "cell_type": "code",
   "execution_count": 7,
   "id": "9ae18a8b-2bb1-4ba5-8ab9-82e1d7382250",
   "metadata": {},
   "outputs": [
    {
     "data": {
      "text/plain": [
       "5.0"
      ]
     },
     "execution_count": 7,
     "metadata": {},
     "output_type": "execute_result"
    }
   ],
   "source": [
    "a=100\n",
    "b=20\n",
    "c=a/b\n",
    "c"
   ]
  },
  {
   "cell_type": "markdown",
   "id": "209127c9-832a-4cde-8893-6441a45dbbf7",
   "metadata": {},
   "source": [
    "This operator is used to divide the numbers."
   ]
  },
  {
   "cell_type": "code",
   "execution_count": 9,
   "id": "e5296ea6-e51c-4a67-80b7-9cab34aeaeaa",
   "metadata": {},
   "outputs": [
    {
     "data": {
      "text/plain": [
       "6"
      ]
     },
     "execution_count": 9,
     "metadata": {},
     "output_type": "execute_result"
    }
   ],
   "source": [
    "x=20\n",
    "y=7\n",
    "z=x%y\n",
    "z"
   ]
  },
  {
   "cell_type": "markdown",
   "id": "ed86c4d9-c71f-4239-a75a-da1d61bbfdd0",
   "metadata": {},
   "source": [
    "This operator returns the remainder when two numbers are divided."
   ]
  },
  {
   "cell_type": "code",
   "execution_count": 10,
   "id": "40fdaa72-74d8-4ccd-a07e-7facf4edd2f9",
   "metadata": {},
   "outputs": [
    {
     "data": {
      "text/plain": [
       "5"
      ]
     },
     "execution_count": 10,
     "metadata": {},
     "output_type": "execute_result"
    }
   ],
   "source": [
    "a=100\n",
    "b=20\n",
    "c=a//b\n",
    "c"
   ]
  },
  {
   "cell_type": "markdown",
   "id": "2b204951-9ef7-492d-87c5-3da220cb5328",
   "metadata": {},
   "source": [
    "This operator is used in floor division."
   ]
  },
  {
   "cell_type": "code",
   "execution_count": 12,
   "id": "971ed8ca-624c-4992-a965-47428914a631",
   "metadata": {},
   "outputs": [
    {
     "data": {
      "text/plain": [
       "900"
      ]
     },
     "execution_count": 12,
     "metadata": {},
     "output_type": "execute_result"
    }
   ],
   "source": [
    "q=30**2\n",
    "q"
   ]
  },
  {
   "cell_type": "markdown",
   "id": "6015eeec-9b26-420b-9577-e165cc3ecb8f",
   "metadata": {},
   "source": [
    "This operator gives the power of the number."
   ]
  },
  {
   "cell_type": "markdown",
   "id": "0f7ba47e-8bfc-403e-b215-54d79477d6aa",
   "metadata": {},
   "source": [
    "Q4. Create a list of length 10 of your choice containing multiple types of data. Using for loop print the element and its data type."
   ]
  },
  {
   "cell_type": "code",
   "execution_count": 5,
   "id": "df22ef6d-0154-41d7-bc60-251ec5fc6d80",
   "metadata": {},
   "outputs": [
    {
     "name": "stdout",
     "output_type": "stream",
     "text": [
      "24 <class 'int'>\n",
      "AI <class 'str'>\n",
      "3.32 <class 'float'>\n",
      "(2, 6, 4, 0) <class 'tuple'>\n",
      "[38, 4, 24] <class 'list'>\n",
      "{'name': 'dhruv', 'age': 27} <class 'dict'>\n",
      "37 <class 'int'>\n",
      "True <class 'bool'>\n",
      "Data Science <class 'str'>\n",
      "4.643 <class 'float'>\n"
     ]
    }
   ],
   "source": [
    "my_list = [24,'AI',3.32,(2,6,4,0),[38,4,24],{'name':'dhruv','age':27},37,True,'Data Science',4.643]\n",
    "for i in my_list:\n",
    "    print(i,type(i))"
   ]
  },
  {
   "cell_type": "markdown",
   "id": "69b2999a-d073-434f-95e5-d0d0e459ad02",
   "metadata": {},
   "source": [
    "Q5. Using a while loop, verify if the number A is purely divisible by number B and if so then how many times it can be divisible."
   ]
  },
  {
   "cell_type": "code",
   "execution_count": 19,
   "id": "c39e433a-321a-4c6f-972a-ea602e13c60d",
   "metadata": {},
   "outputs": [
    {
     "name": "stdin",
     "output_type": "stream",
     "text": [
      "Enter the first number 2000\n",
      "Enter the second number 2\n"
     ]
    },
    {
     "name": "stdout",
     "output_type": "stream",
     "text": [
      "Number a is divisible by number b 4 times\n"
     ]
    }
   ],
   "source": [
    "a=eval(input(\"Enter the first number\"))\n",
    "b=eval(input(\"Enter the second number\"))\n",
    "count=0\n",
    "while a % b == 0:\n",
    "    a=a/b\n",
    "    count += 1\n",
    "print(\"Number a is divisible by number b\",count,'times')"
   ]
  },
  {
   "cell_type": "markdown",
   "id": "dd9edb00-d5ef-4110-bfe1-74cf5e6d0c9d",
   "metadata": {},
   "source": [
    "Q6.Create a list containing 25 int type data.Using for loop and if-else condition print if the element is divisible by 3 or not."
   ]
  },
  {
   "cell_type": "code",
   "execution_count": 20,
   "id": "9ac7a485-e9d0-4f59-b8b0-554a52ee2525",
   "metadata": {},
   "outputs": [
    {
     "name": "stdout",
     "output_type": "stream",
     "text": [
      "Number is divisible by 3\n",
      "Number is not divisible by 3\n",
      "Number is not divisible by 3\n",
      "Number is divisible by 3\n",
      "Number is divisible by 3\n",
      "Number is not divisible by 3\n",
      "Number is not divisible by 3\n",
      "Number is not divisible by 3\n",
      "Number is divisible by 3\n",
      "Number is not divisible by 3\n",
      "Number is not divisible by 3\n",
      "Number is divisible by 3\n",
      "Number is not divisible by 3\n",
      "Number is not divisible by 3\n",
      "Number is divisible by 3\n",
      "Number is divisible by 3\n",
      "Number is not divisible by 3\n",
      "Number is not divisible by 3\n",
      "Number is not divisible by 3\n",
      "Number is divisible by 3\n",
      "Number is not divisible by 3\n",
      "Number is not divisible by 3\n",
      "Number is not divisible by 3\n",
      "Number is not divisible by 3\n",
      "Number is not divisible by 3\n"
     ]
    }
   ],
   "source": [
    "list=[24,35,2,6,252,647,4,8536,33,7,25,63,758,574,63,36,7658,14,64,9684,536,86,35,79,86]\n",
    "for dhruv in list:\n",
    "    if dhruv % 3 == 0:\n",
    "        print('Number is divisible by 3')\n",
    "    else:\n",
    "        print(\"Number is not divisible by 3\")"
   ]
  },
  {
   "cell_type": "markdown",
   "id": "e8cec968-b2d7-4c53-8789-bd13631a5617",
   "metadata": {},
   "source": [
    "Q7.What do you understand about mutable and immutable data types? Give examples for both showing this property."
   ]
  },
  {
   "cell_type": "markdown",
   "id": "c438f5ef-2766-4e4f-8ec3-71e843a5ee50",
   "metadata": {},
   "source": [
    "Mutable data types are those data type in which values can be changed or modified.\n",
    "Immutable data type are those data type in which values can not be changed or can be modified."
   ]
  },
  {
   "cell_type": "markdown",
   "id": "61d383b0-d3be-466a-9488-662e501c299a",
   "metadata": {},
   "source": [
    "Mutable data types example -"
   ]
  },
  {
   "cell_type": "code",
   "execution_count": 8,
   "id": "9dad725d-133c-41ab-b9f2-d35297ca024a",
   "metadata": {},
   "outputs": [
    {
     "data": {
      "text/plain": [
       "['Dhruv', 35, 46.67, 'Hello', (3, 7, 4)]"
      ]
     },
     "execution_count": 8,
     "metadata": {},
     "output_type": "execute_result"
    }
   ],
   "source": [
    "str = ['Dhruv',35,46.67,'Hello',(3,7,4)]\n",
    "str"
   ]
  },
  {
   "cell_type": "code",
   "execution_count": 9,
   "id": "e4dfaeb0-8dbe-469c-afd9-a0c97dae03b0",
   "metadata": {},
   "outputs": [
    {
     "data": {
      "text/plain": [
       "['Dhruv', 35, 46.67, 495, (3, 7, 4)]"
      ]
     },
     "execution_count": 9,
     "metadata": {},
     "output_type": "execute_result"
    }
   ],
   "source": [
    "str[3]=495\n",
    "str"
   ]
  },
  {
   "cell_type": "code",
   "execution_count": 12,
   "id": "26a89239-aa59-4b5f-a722-0a1d1ba59b73",
   "metadata": {},
   "outputs": [
    {
     "data": {
      "text/plain": [
       "['Dhruv', 35, 46.67, 495, 'ds']"
      ]
     },
     "execution_count": 12,
     "metadata": {},
     "output_type": "execute_result"
    }
   ],
   "source": [
    "str[4]='ds'\n",
    "str"
   ]
  },
  {
   "cell_type": "markdown",
   "id": "f5cbe966-401a-465a-baf6-ad7d3a340ceb",
   "metadata": {},
   "source": [
    "Immutable data type examples -"
   ]
  },
  {
   "cell_type": "code",
   "execution_count": 13,
   "id": "3adda934-d24e-4bbd-9390-1a45fea12172",
   "metadata": {},
   "outputs": [
    {
     "data": {
      "text/plain": [
       "'Data Science'"
      ]
     },
     "execution_count": 13,
     "metadata": {},
     "output_type": "execute_result"
    }
   ],
   "source": [
    "str = \"Data Science\"\n",
    "str"
   ]
  },
  {
   "cell_type": "code",
   "execution_count": 14,
   "id": "8334da0a-0e4f-45ee-9f60-b355c06be3be",
   "metadata": {},
   "outputs": [
    {
     "ename": "TypeError",
     "evalue": "'str' object does not support item assignment",
     "output_type": "error",
     "traceback": [
      "\u001b[0;31m---------------------------------------------------------------------------\u001b[0m",
      "\u001b[0;31mTypeError\u001b[0m                                 Traceback (most recent call last)",
      "Cell \u001b[0;32mIn[14], line 1\u001b[0m\n\u001b[0;32m----> 1\u001b[0m \u001b[38;5;28;43mstr\u001b[39;49m\u001b[43m[\u001b[49m\u001b[38;5;241;43m5\u001b[39;49m\u001b[43m]\u001b[49m\u001b[38;5;241m=\u001b[39m\u001b[38;5;124m'\u001b[39m\u001b[38;5;124mr\u001b[39m\u001b[38;5;124m'\u001b[39m\n\u001b[1;32m      2\u001b[0m \u001b[38;5;28mstr\u001b[39m\n",
      "\u001b[0;31mTypeError\u001b[0m: 'str' object does not support item assignment"
     ]
    }
   ],
   "source": [
    "str[5]='r'\n",
    "str"
   ]
  },
  {
   "cell_type": "code",
   "execution_count": 18,
   "id": "2a2cdd65-ffa0-42ae-bc17-9431393cac38",
   "metadata": {},
   "outputs": [
    {
     "ename": "TypeError",
     "evalue": "'str' object does not support item assignment",
     "output_type": "error",
     "traceback": [
      "\u001b[0;31m---------------------------------------------------------------------------\u001b[0m",
      "\u001b[0;31mTypeError\u001b[0m                                 Traceback (most recent call last)",
      "Cell \u001b[0;32mIn[18], line 1\u001b[0m\n\u001b[0;32m----> 1\u001b[0m \u001b[38;5;28;43mstr\u001b[39;49m\u001b[43m[\u001b[49m\u001b[38;5;241;43m8\u001b[39;49m\u001b[43m]\u001b[49m\u001b[38;5;241m=\u001b[39m\u001b[38;5;241m34\u001b[39m\n\u001b[1;32m      2\u001b[0m \u001b[38;5;28mstr\u001b[39m\n",
      "\u001b[0;31mTypeError\u001b[0m: 'str' object does not support item assignment"
     ]
    }
   ],
   "source": [
    "str[8]=34\n",
    "str"
   ]
  }
 ],
 "metadata": {
  "kernelspec": {
   "display_name": "Python 3 (ipykernel)",
   "language": "python",
   "name": "python3"
  },
  "language_info": {
   "codemirror_mode": {
    "name": "ipython",
    "version": 3
   },
   "file_extension": ".py",
   "mimetype": "text/x-python",
   "name": "python",
   "nbconvert_exporter": "python",
   "pygments_lexer": "ipython3",
   "version": "3.10.8"
  }
 },
 "nbformat": 4,
 "nbformat_minor": 5
}
